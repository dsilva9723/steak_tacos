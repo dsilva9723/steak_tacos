{
  "nbformat": 4,
  "nbformat_minor": 0,
  "metadata": {
    "colab": {
      "name": "Test.ipynb",
      "provenance": [],
      "include_colab_link": true
    },
    "kernelspec": {
      "name": "python3",
      "display_name": "Python 3"
    },
    "language_info": {
      "name": "python"
    }
  },
  "cells": [
    {
      "cell_type": "markdown",
      "metadata": {
        "id": "view-in-github",
        "colab_type": "text"
      },
      "source": [
        "<a href=\"https://colab.research.google.com/github/dsilva9723/steak_tacos/blob/amazing_rando_game/Test.ipynb\" target=\"_parent\"><img src=\"https://colab.research.google.com/assets/colab-badge.svg\" alt=\"Open In Colab\"/></a>"
      ]
    },
    {
      "cell_type": "code",
      "metadata": {
        "colab": {
          "base_uri": "https://localhost:8080/"
        },
        "id": "CHKFPbZqVPYs",
        "outputId": "952abf3b-9f93-4377-f6b9-337cb03347df"
      },
      "source": [
        "a = 0\n",
        "for i in range(1,101):\n",
        "  a += i\n",
        "print(a)\n",
        "print(\"We did it!\")"
      ],
      "execution_count": null,
      "outputs": [
        {
          "output_type": "stream",
          "name": "stdout",
          "text": [
            "5050\n",
            "We did it!\n"
          ]
        }
      ]
    },
    {
      "cell_type": "code",
      "metadata": {
        "id": "NA7vL4WbhiPD"
      },
      "source": [
        "import random as r\n",
        "\n",
        "counter = 1\n",
        "generate = r.randint(1,100)\n",
        "\n",
        "guess = int(input(\"Please enter your guess. \"))\n",
        "prompt_low = \"Wrong guess. Your guess is lower than the random number. \"\n",
        "prompt_high = \"Wrong guess. Your guess is higher than the random number. \"\n",
        "\n",
        "#While counter for the users 5 guesses\n",
        "while counter < 6:\n",
        "  \n",
        "  #print(generate)\n",
        "  print(counter)\n",
        "  #print(guess)\n",
        "\n",
        "#if the user guesses correctly\n",
        "  if guess == generate :\n",
        "      print(\"You guessed correctly\")\n",
        "      break\n",
        "\n",
        "#if the user is low\n",
        "  elif guess < generate:\n",
        "    guess = int(input(prompt_low))\n",
        "    counter += 1\n",
        "#if the user is high\n",
        "  elif guess > generate:\n",
        "    guess = int(input(prompt_high))\n",
        "    counter += 1\n",
        "  \n",
        "  #After the user runs out of guesses\n",
        "  if counter == 5:\n",
        "    print()\n",
        "    if guess < generate:\n",
        "      print(prompt_low)\n",
        "    elif guess < generate:\n",
        "      print(prompt_high)\n",
        "\n",
        "    print(\"You are out of tries.\")\n",
        "    print(\"The random number was \" + str(generate))\n",
        "    break\n",
        "    "
      ],
      "execution_count": null,
      "outputs": []
    }
  ]
}